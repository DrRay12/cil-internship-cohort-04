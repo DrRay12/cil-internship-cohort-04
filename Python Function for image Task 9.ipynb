{
 "cells": [
  {
   "cell_type": "code",
   "execution_count": 1,
   "id": "c390d87f",
   "metadata": {},
   "outputs": [],
   "source": [
    "def copy_resize_image():\n",
    "  from PIL import Image\n",
    "  # Image.open() can also open other image types\n",
    "  image = Image.open(\"some_random_image.jpg\")\n",
    "  # WIDTH and HEIGHT are integers\n",
    "  resized_image = image.resize((WIDTH, HEIGHT))\n",
    "  resized_image.save(\"resized_image.jpg\")\n",
    "  im = Image.open('image.jpg') \n",
    "  im = im.resize((w, h))"
   ]
  },
  {
   "cell_type": "markdown",
   "id": "e3066f95",
   "metadata": {},
   "source": [
    "The function above would copy and resize any jpg image"
   ]
  },
  {
   "cell_type": "code",
   "execution_count": null,
   "id": "bfa2a9b9",
   "metadata": {},
   "outputs": [],
   "source": []
  }
 ],
 "metadata": {
  "kernelspec": {
   "display_name": "Python 3 (ipykernel)",
   "language": "python",
   "name": "python3"
  },
  "language_info": {
   "codemirror_mode": {
    "name": "ipython",
    "version": 3
   },
   "file_extension": ".py",
   "mimetype": "text/x-python",
   "name": "python",
   "nbconvert_exporter": "python",
   "pygments_lexer": "ipython3",
   "version": "3.9.7"
  }
 },
 "nbformat": 4,
 "nbformat_minor": 5
}
